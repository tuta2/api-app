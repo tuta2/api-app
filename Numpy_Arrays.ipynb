{
  "nbformat": 4,
  "nbformat_minor": 0,
  "metadata": {
    "colab": {
      "provenance": [],
      "authorship_tag": "ABX9TyOs/dmSyDm1/gR/vZ7gWQ1i",
      "include_colab_link": true
    },
    "kernelspec": {
      "name": "python3",
      "display_name": "Python 3"
    },
    "language_info": {
      "name": "python"
    }
  },
  "cells": [
    {
      "cell_type": "markdown",
      "metadata": {
        "id": "view-in-github",
        "colab_type": "text"
      },
      "source": [
        "<a href=\"https://colab.research.google.com/github/tuta2/api-app/blob/main/Numpy_Arrays.ipynb\" target=\"_parent\"><img src=\"https://colab.research.google.com/assets/colab-badge.svg\" alt=\"Open In Colab\"/></a>"
      ]
    },
    {
      "cell_type": "code",
      "execution_count": null,
      "metadata": {
        "id": "93Y3G4-GvOLi"
      },
      "outputs": [],
      "source": [
        "#import Numpy Library\n",
        "import numpy as np"
      ]
    },
    {
      "cell_type": "code",
      "source": [
        "#first Numpy array\n",
        "first_numpy_array = np.array([1,2,3,4])"
      ],
      "metadata": {
        "id": "nhZSP45ouwi-"
      },
      "execution_count": null,
      "outputs": []
    },
    {
      "cell_type": "code",
      "source": [
        "print(first_numpy_array)"
      ],
      "metadata": {
        "colab": {
          "base_uri": "https://localhost:8080/"
        },
        "id": "0VS1VObOvl1I",
        "outputId": "39b58328-81d9-4d05-bccd-94694479dc87"
      },
      "execution_count": null,
      "outputs": [
        {
          "output_type": "stream",
          "name": "stdout",
          "text": [
            "[1 2 3 4]\n"
          ]
        }
      ]
    },
    {
      "cell_type": "code",
      "source": [
        "#array with zeros\n",
        "array_with_zeros = np.zeros((3,3))\n",
        "array_with_zeros"
      ],
      "metadata": {
        "colab": {
          "base_uri": "https://localhost:8080/"
        },
        "id": "NHHy-IzgwQfv",
        "outputId": "0ae7549a-aab5-4e51-fd1a-1d2e654f1c49"
      },
      "execution_count": null,
      "outputs": [
        {
          "output_type": "execute_result",
          "data": {
            "text/plain": [
              "array([[0., 0., 0.],\n",
              "       [0., 0., 0.],\n",
              "       [0., 0., 0.]])"
            ]
          },
          "metadata": {},
          "execution_count": 5
        }
      ]
    },
    {
      "cell_type": "code",
      "source": [
        "#array with ones\n",
        "array_with_ones = np.ones((3,3))\n",
        "array_with_ones"
      ],
      "metadata": {
        "colab": {
          "base_uri": "https://localhost:8080/"
        },
        "id": "daAw_TGwwzUe",
        "outputId": "a40e0cea-6a67-4c0b-eeaf-ac1ed84d66f6"
      },
      "execution_count": null,
      "outputs": [
        {
          "output_type": "execute_result",
          "data": {
            "text/plain": [
              "array([[1., 1., 1.],\n",
              "       [1., 1., 1.],\n",
              "       [1., 1., 1.]])"
            ]
          },
          "metadata": {},
          "execution_count": 6
        }
      ]
    },
    {
      "cell_type": "code",
      "source": [
        "#array with empty numbers\n",
        "array_with_empty = np.empty((2,3))\n",
        "array_with_empty"
      ],
      "metadata": {
        "id": "FiffbUqvxQK_",
        "colab": {
          "base_uri": "https://localhost:8080/"
        },
        "outputId": "07df1a1c-c41a-4b4f-8483-4d8234f773b4"
      },
      "execution_count": 7,
      "outputs": [
        {
          "output_type": "execute_result",
          "data": {
            "text/plain": [
              "array([[4.81323019e-310, 0.00000000e+000, 2.05833592e-312],\n",
              "       [6.79038654e-313, 2.14321575e-312, 2.27053550e-312]])"
            ]
          },
          "metadata": {},
          "execution_count": 7
        }
      ]
    },
    {
      "cell_type": "code",
      "source": [
        "from numpy.core.multiarray import array\n",
        "#array with arange method\n",
        "array_arange = np.arange(12)"
      ],
      "metadata": {
        "id": "iK_MgDfN1Rjw"
      },
      "execution_count": 30,
      "outputs": []
    }
  ]
}