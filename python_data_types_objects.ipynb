{
  "nbformat": 4,
  "nbformat_minor": 0,
  "metadata": {
    "colab": {
      "provenance": [],
      "authorship_tag": "ABX9TyNeiQUqyQmJ9vbNhKgNMPwJ",
      "include_colab_link": true
    },
    "kernelspec": {
      "name": "python3",
      "display_name": "Python 3"
    },
    "language_info": {
      "name": "python"
    }
  },
  "cells": [
    {
      "cell_type": "markdown",
      "metadata": {
        "id": "view-in-github",
        "colab_type": "text"
      },
      "source": [
        "<a href=\"https://colab.research.google.com/github/tuta2/api-app/blob/main/python_data_types_objects.ipynb\" target=\"_parent\"><img src=\"https://colab.research.google.com/assets/colab-badge.svg\" alt=\"Open In Colab\"/></a>"
      ]
    },
    {
      "cell_type": "code",
      "source": [
        "fruits=(\"mango\", \"orange\",\" banana\")"
      ],
      "metadata": {
        "id": "L7nfJkVzi3sq"
      },
      "execution_count": null,
      "outputs": []
    },
    {
      "cell_type": "code",
      "source": [
        "fruits"
      ],
      "metadata": {
        "colab": {
          "base_uri": "https://localhost:8080/"
        },
        "id": "L-0eDgVajD1r",
        "outputId": "0fc31d2e-5c67-42d5-bfb0-f7490de43778"
      },
      "execution_count": null,
      "outputs": [
        {
          "output_type": "execute_result",
          "data": {
            "text/plain": [
              "('mango', 'orange', ' banana')"
            ]
          },
          "metadata": {},
          "execution_count": 3
        }
      ]
    },
    {
      "cell_type": "code",
      "source": [
        "print(fruits)"
      ],
      "metadata": {
        "colab": {
          "base_uri": "https://localhost:8080/"
        },
        "id": "zX2UTOsjjG-i",
        "outputId": "8dac5088-9a07-44ee-c541-634695a156da"
      },
      "execution_count": null,
      "outputs": [
        {
          "output_type": "stream",
          "name": "stdout",
          "text": [
            "('mango', 'orange', ' banana')\n"
          ]
        }
      ]
    },
    {
      "cell_type": "markdown",
      "source": [
        "**Tuple** **Operations**"
      ],
      "metadata": {
        "id": "FwH8GbbKjXmr"
      }
    },
    {
      "cell_type": "code",
      "source": [
        "#concantenation\n",
        "fruits=fruits+(\"passion\", \"pineaple\")"
      ],
      "metadata": {
        "id": "O420hXPTjgeH"
      },
      "execution_count": null,
      "outputs": []
    },
    {
      "cell_type": "code",
      "source": [
        "fruits+(\"pear\",)"
      ],
      "metadata": {
        "colab": {
          "base_uri": "https://localhost:8080/"
        },
        "id": "p9YNcDIFjzi4",
        "outputId": "c8692f41-35a1-4228-b833-253f51aca37e"
      },
      "execution_count": null,
      "outputs": [
        {
          "output_type": "execute_result",
          "data": {
            "text/plain": [
              "('mango', 'orange', ' banana', 'passion', 'pineaple', 'pear')"
            ]
          },
          "metadata": {},
          "execution_count": 7
        }
      ]
    },
    {
      "cell_type": "code",
      "source": [
        "fruits"
      ],
      "metadata": {
        "colab": {
          "base_uri": "https://localhost:8080/"
        },
        "id": "y12CvC5RkEO6",
        "outputId": "d80da79a-2260-428f-cd3f-4945273652f6"
      },
      "execution_count": null,
      "outputs": [
        {
          "output_type": "execute_result",
          "data": {
            "text/plain": [
              "('mango', 'orange', ' banana', 'passion', 'pineaple')"
            ]
          },
          "metadata": {},
          "execution_count": 8
        }
      ]
    },
    {
      "cell_type": "code",
      "source": [
        "fruits=fruits+(\"pear\",)"
      ],
      "metadata": {
        "id": "WrjCa-IlkLAh"
      },
      "execution_count": null,
      "outputs": []
    },
    {
      "cell_type": "code",
      "source": [
        "fruits"
      ],
      "metadata": {
        "colab": {
          "base_uri": "https://localhost:8080/"
        },
        "id": "IS8uaqG0kTK3",
        "outputId": "9539b663-8e00-4cc1-b030-91c67745e9e3"
      },
      "execution_count": null,
      "outputs": [
        {
          "output_type": "execute_result",
          "data": {
            "text/plain": [
              "('mango', 'orange', ' banana', 'passion', 'pineaple', 'pear')"
            ]
          },
          "metadata": {},
          "execution_count": 10
        }
      ]
    },
    {
      "cell_type": "markdown",
      "source": [
        "**Tuple Repetition**"
      ],
      "metadata": {
        "id": "DHrk7lPxkXYX"
      }
    },
    {
      "cell_type": "code",
      "source": [
        "fruits*2"
      ],
      "metadata": {
        "colab": {
          "base_uri": "https://localhost:8080/"
        },
        "id": "9Y0WO-kukbWH",
        "outputId": "02bcfdcd-2564-4714-9d63-cd26f4318d9f"
      },
      "execution_count": null,
      "outputs": [
        {
          "output_type": "execute_result",
          "data": {
            "text/plain": [
              "('mango',\n",
              " 'orange',\n",
              " ' banana',\n",
              " 'passion',\n",
              " 'pineaple',\n",
              " 'pear',\n",
              " 'mango',\n",
              " 'orange',\n",
              " ' banana',\n",
              " 'passion',\n",
              " 'pineaple',\n",
              " 'pear')"
            ]
          },
          "metadata": {},
          "execution_count": 11
        }
      ]
    },
    {
      "cell_type": "code",
      "source": [
        "fruits"
      ],
      "metadata": {
        "colab": {
          "base_uri": "https://localhost:8080/"
        },
        "id": "DCYYkEqWkidh",
        "outputId": "87141cfb-4978-40e7-ee46-587d2d33c1bc"
      },
      "execution_count": null,
      "outputs": [
        {
          "output_type": "execute_result",
          "data": {
            "text/plain": [
              "('mango', 'orange', ' banana', 'passion', 'pineaple', 'pear')"
            ]
          },
          "metadata": {},
          "execution_count": 12
        }
      ]
    },
    {
      "cell_type": "code",
      "source": [],
      "metadata": {
        "id": "Iihlhz6Wkm-o"
      },
      "execution_count": null,
      "outputs": []
    },
    {
      "cell_type": "markdown",
      "source": [
        "**Tuple Indexing and Slicing**"
      ],
      "metadata": {
        "id": "cQYE3bZbknbZ"
      }
    },
    {
      "cell_type": "code",
      "source": [
        "#indexing\n",
        "fruits[0]"
      ],
      "metadata": {
        "colab": {
          "base_uri": "https://localhost:8080/",
          "height": 35
        },
        "id": "6a7b6FIxkvoy",
        "outputId": "34dc5396-e466-4034-86c2-b88c89945c57"
      },
      "execution_count": null,
      "outputs": [
        {
          "output_type": "execute_result",
          "data": {
            "text/plain": [
              "'mango'"
            ],
            "application/vnd.google.colaboratory.intrinsic+json": {
              "type": "string"
            }
          },
          "metadata": {},
          "execution_count": 13
        }
      ]
    },
    {
      "cell_type": "code",
      "source": [
        "fruits[1]"
      ],
      "metadata": {
        "colab": {
          "base_uri": "https://localhost:8080/",
          "height": 35
        },
        "id": "Txb2y-aaktI4",
        "outputId": "c8e850ef-874a-46fe-a2b9-f15137b0f68f"
      },
      "execution_count": null,
      "outputs": [
        {
          "output_type": "execute_result",
          "data": {
            "text/plain": [
              "'orange'"
            ],
            "application/vnd.google.colaboratory.intrinsic+json": {
              "type": "string"
            }
          },
          "metadata": {},
          "execution_count": 14
        }
      ]
    },
    {
      "cell_type": "code",
      "source": [
        "fruits[2]"
      ],
      "metadata": {
        "colab": {
          "base_uri": "https://localhost:8080/",
          "height": 35
        },
        "id": "m279FRAplCZl",
        "outputId": "88779fdc-4496-4ad1-a11e-54193b410fe9"
      },
      "execution_count": null,
      "outputs": [
        {
          "output_type": "execute_result",
          "data": {
            "text/plain": [
              "' banana'"
            ],
            "application/vnd.google.colaboratory.intrinsic+json": {
              "type": "string"
            }
          },
          "metadata": {},
          "execution_count": 15
        }
      ]
    },
    {
      "cell_type": "code",
      "source": [
        "fruits[-1]"
      ],
      "metadata": {
        "colab": {
          "base_uri": "https://localhost:8080/",
          "height": 35
        },
        "id": "MOqKef12lCf5",
        "outputId": "8697b93b-9d1e-4880-a0ed-172f09b52f60"
      },
      "execution_count": null,
      "outputs": [
        {
          "output_type": "execute_result",
          "data": {
            "text/plain": [
              "'pear'"
            ],
            "application/vnd.google.colaboratory.intrinsic+json": {
              "type": "string"
            }
          },
          "metadata": {},
          "execution_count": 16
        }
      ]
    },
    {
      "cell_type": "code",
      "source": [
        "fruits[-2]"
      ],
      "metadata": {
        "colab": {
          "base_uri": "https://localhost:8080/",
          "height": 35
        },
        "id": "G_Cv-gJtlCi7",
        "outputId": "e82fb18f-b0fe-4e77-df73-b315cdba5c62"
      },
      "execution_count": null,
      "outputs": [
        {
          "output_type": "execute_result",
          "data": {
            "text/plain": [
              "'pineaple'"
            ],
            "application/vnd.google.colaboratory.intrinsic+json": {
              "type": "string"
            }
          },
          "metadata": {},
          "execution_count": 17
        }
      ]
    },
    {
      "cell_type": "code",
      "source": [
        "fruits[2:4]"
      ],
      "metadata": {
        "colab": {
          "base_uri": "https://localhost:8080/"
        },
        "id": "1EHusKu3lClc",
        "outputId": "380c0366-7e05-41be-a19e-b4bb4dd5714f"
      },
      "execution_count": null,
      "outputs": [
        {
          "output_type": "execute_result",
          "data": {
            "text/plain": [
              "(' banana', 'passion')"
            ]
          },
          "metadata": {},
          "execution_count": 18
        }
      ]
    },
    {
      "cell_type": "code",
      "source": [
        "fruits[-3:]"
      ],
      "metadata": {
        "colab": {
          "base_uri": "https://localhost:8080/"
        },
        "id": "YEw_I3aElZGp",
        "outputId": "231b4052-58f7-4806-bed0-bfa096a9aad9"
      },
      "execution_count": null,
      "outputs": [
        {
          "output_type": "execute_result",
          "data": {
            "text/plain": [
              "('passion', 'pineaple', 'pear')"
            ]
          },
          "metadata": {},
          "execution_count": 19
        }
      ]
    },
    {
      "cell_type": "code",
      "source": [
        "fruits[:3]"
      ],
      "metadata": {
        "colab": {
          "base_uri": "https://localhost:8080/"
        },
        "id": "ZHldOAr9lmES",
        "outputId": "68593c76-a508-43b6-a72a-4f25c40f44f4"
      },
      "execution_count": null,
      "outputs": [
        {
          "output_type": "execute_result",
          "data": {
            "text/plain": [
              "('mango', 'orange', ' banana')"
            ]
          },
          "metadata": {},
          "execution_count": 20
        }
      ]
    },
    {
      "cell_type": "markdown",
      "source": [
        "**Lists**"
      ],
      "metadata": {
        "id": "hXPfbtUrlsYi"
      }
    },
    {
      "cell_type": "code",
      "source": [
        "#declearing a list called myList\n",
        "myList=[\"juma\", 3.6,\"learning java\"]"
      ],
      "metadata": {
        "id": "yFDDehIZlyrb"
      },
      "execution_count": null,
      "outputs": []
    },
    {
      "cell_type": "code",
      "source": [
        "myList"
      ],
      "metadata": {
        "colab": {
          "base_uri": "https://localhost:8080/"
        },
        "id": "umXnWwWEmRbl",
        "outputId": "0c2c403d-1e23-42cc-872d-57727bef72e6"
      },
      "execution_count": null,
      "outputs": [
        {
          "output_type": "execute_result",
          "data": {
            "text/plain": [
              "['juma', 3.6, 'learning java']"
            ]
          },
          "metadata": {},
          "execution_count": 22
        }
      ]
    },
    {
      "cell_type": "code",
      "source": [
        "print(myList)"
      ],
      "metadata": {
        "colab": {
          "base_uri": "https://localhost:8080/"
        },
        "id": "tJVFo9qimVF0",
        "outputId": "2061154a-f5b3-4b40-bb56-3daad9eb4600"
      },
      "execution_count": null,
      "outputs": [
        {
          "output_type": "stream",
          "name": "stdout",
          "text": [
            "['juma', 3.6, 'learning java']\n"
          ]
        }
      ]
    },
    {
      "cell_type": "code",
      "source": [
        "shopinglist=[\"bag\",\"clothes\",\"shoes\",9]"
      ],
      "metadata": {
        "id": "IZ708HMTmc95"
      },
      "execution_count": null,
      "outputs": []
    },
    {
      "cell_type": "markdown",
      "source": [
        "**List.append**"
      ],
      "metadata": {
        "id": "06GbHB5OmsEf"
      }
    },
    {
      "cell_type": "code",
      "source": [
        "#to add only one element to a list we use list.append() funtion\n",
        "shopinglist.append(\"towel\")"
      ],
      "metadata": {
        "id": "Jn29_U8Tm9TB"
      },
      "execution_count": null,
      "outputs": []
    },
    {
      "cell_type": "code",
      "source": [
        "shopinglist"
      ],
      "metadata": {
        "colab": {
          "base_uri": "https://localhost:8080/"
        },
        "id": "SI1M0v3-oCGh",
        "outputId": "32fec612-0ef7-4ad6-f6bf-0899c4dc6c7c"
      },
      "execution_count": null,
      "outputs": [
        {
          "data": {
            "text/plain": [
              "['bag', 'clothes', 'shoes', 9, 'towel']"
            ]
          },
          "execution_count": 27,
          "metadata": {},
          "output_type": "execute_result"
        }
      ]
    },
    {
      "cell_type": "code",
      "source": [],
      "metadata": {
        "id": "4_lsMrrxodfg"
      },
      "execution_count": null,
      "outputs": []
    },
    {
      "cell_type": "markdown",
      "source": [
        "NB// List.append does not accept more than one element in a list."
      ],
      "metadata": {
        "id": "VJzfV57QokZX"
      }
    },
    {
      "cell_type": "code",
      "source": [
        "#To add more than one element in a list, we use list.extend([])\n",
        "shopinglist.extend([\"transport\",\"book\"])"
      ],
      "metadata": {
        "id": "I_NC59GnpB5A"
      },
      "execution_count": null,
      "outputs": []
    },
    {
      "cell_type": "code",
      "source": [
        "shopinglist"
      ],
      "metadata": {
        "colab": {
          "base_uri": "https://localhost:8080/"
        },
        "id": "MLIffSXKpnat",
        "outputId": "ccb8fb71-6022-4f86-d06e-d853d103b698"
      },
      "execution_count": null,
      "outputs": [
        {
          "output_type": "execute_result",
          "data": {
            "text/plain": [
              "['bag', 'clothes', 'shoes', 9, 'towel', 'transport', 'book']"
            ]
          },
          "metadata": {},
          "execution_count": 29
        }
      ]
    },
    {
      "cell_type": "markdown",
      "source": [
        "**List.insert()**"
      ],
      "metadata": {
        "id": "iap0kd6jprl9"
      }
    },
    {
      "cell_type": "code",
      "source": [
        "shopinglist.insert(2,\"unga\")"
      ],
      "metadata": {
        "id": "pLqLdppYpqd1"
      },
      "execution_count": null,
      "outputs": []
    },
    {
      "cell_type": "code",
      "source": [
        "shopinglist"
      ],
      "metadata": {
        "colab": {
          "base_uri": "https://localhost:8080/"
        },
        "id": "IFjAOZgNp1em",
        "outputId": "b0f8d51e-cc68-4d43-c3ae-0ee79d84b597"
      },
      "execution_count": null,
      "outputs": [
        {
          "output_type": "execute_result",
          "data": {
            "text/plain": [
              "['bag', 'clothes', 'unga', 'shoes', 9, 'towel', 'transport', 'book']"
            ]
          },
          "metadata": {},
          "execution_count": 31
        }
      ]
    },
    {
      "cell_type": "code",
      "source": [],
      "metadata": {
        "id": "mPXag2x5qVB_"
      },
      "execution_count": null,
      "outputs": []
    },
    {
      "cell_type": "markdown",
      "source": [
        "**List.pop()**"
      ],
      "metadata": {
        "id": "W7RibQzxqXjr"
      }
    },
    {
      "cell_type": "code",
      "source": [
        "shopinglist"
      ],
      "metadata": {
        "colab": {
          "base_uri": "https://localhost:8080/"
        },
        "id": "cu-9nZkFqhOf",
        "outputId": "04e2f1c6-8f84-4379-8149-efdbb1090abe"
      },
      "execution_count": null,
      "outputs": [
        {
          "output_type": "execute_result",
          "data": {
            "text/plain": [
              "['bag', 'clothes', 'unga', 'shoes', 9, 'towel', 'transport', 'book']"
            ]
          },
          "metadata": {},
          "execution_count": 32
        }
      ]
    },
    {
      "cell_type": "code",
      "source": [
        "shopinglist.pop()"
      ],
      "metadata": {
        "colab": {
          "base_uri": "https://localhost:8080/",
          "height": 35
        },
        "id": "oiqhmy4rqk1Z",
        "outputId": "4187108d-81c4-4ccb-dec1-b4cb541d7cd7"
      },
      "execution_count": null,
      "outputs": [
        {
          "output_type": "execute_result",
          "data": {
            "text/plain": [
              "'book'"
            ],
            "application/vnd.google.colaboratory.intrinsic+json": {
              "type": "string"
            }
          },
          "metadata": {},
          "execution_count": 33
        }
      ]
    },
    {
      "cell_type": "code",
      "source": [
        "shopinglist"
      ],
      "metadata": {
        "colab": {
          "base_uri": "https://localhost:8080/"
        },
        "id": "CRSbORQjqwrn",
        "outputId": "dcb42e6f-96ae-4821-db55-b6d3fcab50cc"
      },
      "execution_count": null,
      "outputs": [
        {
          "output_type": "execute_result",
          "data": {
            "text/plain": [
              "['bag', 'clothes', 'unga', 'shoes', 9, 'towel', 'transport']"
            ]
          },
          "metadata": {},
          "execution_count": 34
        }
      ]
    },
    {
      "cell_type": "code",
      "source": [
        "shopinglist.pop(2)"
      ],
      "metadata": {
        "colab": {
          "base_uri": "https://localhost:8080/",
          "height": 35
        },
        "id": "G7IeemABqz3i",
        "outputId": "f25b5aa2-f2fc-4b4a-b5e6-b8f0ab1d4914"
      },
      "execution_count": null,
      "outputs": [
        {
          "output_type": "execute_result",
          "data": {
            "text/plain": [
              "'unga'"
            ],
            "application/vnd.google.colaboratory.intrinsic+json": {
              "type": "string"
            }
          },
          "metadata": {},
          "execution_count": 35
        }
      ]
    },
    {
      "cell_type": "code",
      "source": [
        "shopinglist"
      ],
      "metadata": {
        "colab": {
          "base_uri": "https://localhost:8080/"
        },
        "id": "P-1-s_xBq8pO",
        "outputId": "6e9048b5-3c2b-4975-a55b-e5c2b69aafd0"
      },
      "execution_count": null,
      "outputs": [
        {
          "output_type": "execute_result",
          "data": {
            "text/plain": [
              "['bag', 'clothes', 'shoes', 9, 'towel', 'transport']"
            ]
          },
          "metadata": {},
          "execution_count": 36
        }
      ]
    },
    {
      "cell_type": "markdown",
      "source": [
        "**SETS**"
      ],
      "metadata": {
        "id": "KdKZAe-9rAjP"
      }
    },
    {
      "cell_type": "code",
      "source": [
        "#We declear sets using curly brackets\n",
        "mySet={\"Reghan\",26, \"A good python student\"}"
      ],
      "metadata": {
        "id": "uBVZSAEtrDTO"
      },
      "execution_count": null,
      "outputs": []
    },
    {
      "cell_type": "code",
      "source": [
        "mySet"
      ],
      "metadata": {
        "colab": {
          "base_uri": "https://localhost:8080/"
        },
        "id": "MKfuija2reTe",
        "outputId": "d064032c-8709-49d6-c975-1a23476f423b"
      },
      "execution_count": null,
      "outputs": [
        {
          "output_type": "execute_result",
          "data": {
            "text/plain": [
              "{26, 'A good python student', 'Reghan'}"
            ]
          },
          "metadata": {},
          "execution_count": 38
        }
      ]
    },
    {
      "cell_type": "code",
      "source": [],
      "metadata": {
        "id": "yzUfgNGjrizu"
      },
      "execution_count": null,
      "outputs": []
    },
    {
      "cell_type": "markdown",
      "source": [
        "**Set** **Operations**\n",
        "\n",
        "**Union**"
      ],
      "metadata": {
        "id": "R2CZE_7prmY-"
      }
    },
    {
      "cell_type": "code",
      "source": [
        "# union means 'or'. All elements in the two sets omitting the duplicates\n",
        "mySet1={1,2,'R'}\n",
        "mySet2={1,'d', 2}"
      ],
      "metadata": {
        "id": "ut6xvEM9r4jY"
      },
      "execution_count": null,
      "outputs": []
    },
    {
      "cell_type": "code",
      "source": [
        "mySet1"
      ],
      "metadata": {
        "colab": {
          "base_uri": "https://localhost:8080/"
        },
        "id": "oP7_Bc4Nrq-u",
        "outputId": "c5be1b98-cbc4-4db1-c62d-513edbb22958"
      },
      "execution_count": null,
      "outputs": [
        {
          "output_type": "execute_result",
          "data": {
            "text/plain": [
              "{1, 2, 'R'}"
            ]
          },
          "metadata": {},
          "execution_count": 40
        }
      ]
    },
    {
      "cell_type": "code",
      "source": [
        "mySet2"
      ],
      "metadata": {
        "colab": {
          "base_uri": "https://localhost:8080/"
        },
        "id": "cafvp_ThshTf",
        "outputId": "4736dec7-5e27-449b-f4b3-22454dceac91"
      },
      "execution_count": null,
      "outputs": [
        {
          "output_type": "execute_result",
          "data": {
            "text/plain": [
              "{1, 2, 'd'}"
            ]
          },
          "metadata": {},
          "execution_count": 41
        }
      ]
    },
    {
      "cell_type": "code",
      "source": [
        "mySet1 | mySet2"
      ],
      "metadata": {
        "colab": {
          "base_uri": "https://localhost:8080/"
        },
        "id": "LFwqPY7psjzO",
        "outputId": "28303999-026d-41d0-9e8b-29cd9ebf7446"
      },
      "execution_count": null,
      "outputs": [
        {
          "output_type": "execute_result",
          "data": {
            "text/plain": [
              "{1, 2, 'R', 'd'}"
            ]
          },
          "metadata": {},
          "execution_count": 42
        }
      ]
    },
    {
      "cell_type": "code",
      "source": [],
      "metadata": {
        "id": "1hBJ6NA3tDwO"
      },
      "execution_count": null,
      "outputs": []
    },
    {
      "cell_type": "markdown",
      "source": [
        "**Intersection**"
      ],
      "metadata": {
        "id": "WxC0BsbPtFJ-"
      }
    },
    {
      "cell_type": "code",
      "source": [
        "#union means 'and' elements that are both in set 1 and set . i.e only common elements\n"
      ],
      "metadata": {
        "id": "IKiIOOAGtOAJ"
      },
      "execution_count": null,
      "outputs": []
    },
    {
      "cell_type": "code",
      "source": [
        "mySet1"
      ],
      "metadata": {
        "colab": {
          "base_uri": "https://localhost:8080/"
        },
        "id": "F3BtzOuPtdku",
        "outputId": "1a7a7d43-79c9-4bca-e19d-5d65afbc6a79"
      },
      "execution_count": null,
      "outputs": [
        {
          "output_type": "execute_result",
          "data": {
            "text/plain": [
              "{1, 2, 'R'}"
            ]
          },
          "metadata": {},
          "execution_count": 43
        }
      ]
    },
    {
      "cell_type": "code",
      "source": [
        "mySet2"
      ],
      "metadata": {
        "colab": {
          "base_uri": "https://localhost:8080/"
        },
        "id": "Bbtigf_6thSt",
        "outputId": "5aa376cc-8ca4-479a-cc15-33fbe54f4b82"
      },
      "execution_count": null,
      "outputs": [
        {
          "output_type": "execute_result",
          "data": {
            "text/plain": [
              "{1, 2, 'd'}"
            ]
          },
          "metadata": {},
          "execution_count": 44
        }
      ]
    },
    {
      "cell_type": "code",
      "source": [
        "mySet1 & mySet2"
      ],
      "metadata": {
        "colab": {
          "base_uri": "https://localhost:8080/"
        },
        "id": "zo7SA7PAtj-x",
        "outputId": "660184a4-7276-4a20-a121-58bc7dfe2ae3"
      },
      "execution_count": null,
      "outputs": [
        {
          "output_type": "execute_result",
          "data": {
            "text/plain": [
              "{1, 2}"
            ]
          },
          "metadata": {},
          "execution_count": 45
        }
      ]
    },
    {
      "cell_type": "markdown",
      "source": [
        "**Set Diference**"
      ],
      "metadata": {
        "id": "pEELxdB_tvu2"
      }
    },
    {
      "cell_type": "code",
      "source": [
        "mySet1 - mySet2"
      ],
      "metadata": {
        "colab": {
          "base_uri": "https://localhost:8080/"
        },
        "id": "xTtXMVY7t0GG",
        "outputId": "108c4687-655d-4689-9f9b-843eaf82af4d"
      },
      "execution_count": null,
      "outputs": [
        {
          "output_type": "execute_result",
          "data": {
            "text/plain": [
              "{'R'}"
            ]
          },
          "metadata": {},
          "execution_count": 46
        }
      ]
    },
    {
      "cell_type": "code",
      "source": [
        "mySet2 - mySet1"
      ],
      "metadata": {
        "colab": {
          "base_uri": "https://localhost:8080/"
        },
        "id": "pTefgjxSt7g9",
        "outputId": "fb297528-480c-49c3-ead1-7009f072815a"
      },
      "execution_count": null,
      "outputs": [
        {
          "output_type": "execute_result",
          "data": {
            "text/plain": [
              "{'d'}"
            ]
          },
          "metadata": {},
          "execution_count": 47
        }
      ]
    }
  ]
}